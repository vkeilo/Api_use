{
 "cells": [
  {
   "cell_type": "code",
   "execution_count": 10,
   "id": "4a51cbb8",
   "metadata": {},
   "outputs": [
    {
     "name": "stdout",
     "output_type": "stream",
     "text": [
      "选中的文本:  到剪贴板，并最后获取剪贴板中的文本。这\n",
      "选中的文本:  到剪贴板，并最后获取剪贴板中的文本。这\n",
      "选中的文本:  到剪贴板，并最后获取剪贴板中的文本。这\n",
      "选中的文本:  到剪贴板，并最后获取剪贴板中的文本。这\n",
      "选中的文本:  到剪贴板，并最后获取剪贴板中的文本。这\n",
      "选中的文本:  到剪贴板，并最后获取剪贴板中的文本。这\n",
      "选中的文本:  到剪贴板，并最后获取剪贴板中的文本。这\n",
      "选中的文本:  \", selecte\n",
      "选中的文本:  \", selecte\n",
      "选中的文本:  \", selecte\n",
      "选中的文本:  \", selecte\n",
      "选中的文本:  \", selecte\n",
      "选中的文本:  \", selecte\n",
      "选中的文本:  \", selecte\n",
      "选中的文本:  \", selecte\n",
      "选中的文本:  \", selecte\n",
      "选中的文本:  \", selecte\n",
      "选中的文本:  \", selecte\n",
      "选中的文本:  \", selecte\n",
      "选中的文本:  \", selecte\n",
      "选中的文本:  \", selecte\n",
      "选中的文本:  \", selecte\n",
      "选中的文本:  \", selecte\n",
      "选中的文本:  \", selecte\n",
      "选中的文本:  \", selecte\n",
      "选中的文本:  )\n",
      "选中的文本:  )\n",
      "选中的文本:  )\n",
      "选中的文本:  e\n",
      "选中的文本:  e\n",
      "选中的文本:  e\n",
      "选中的文本:  e\n",
      "选中的文本:  e\n",
      "选中的文本:  e\n",
      "选中的文本:  e\n",
      "选中的文本:  e\n",
      "选中的文本:  e\n",
      "选中的文本:  文档 (text/p\n",
      "选中的文本:  文档 (text/p\n",
      "选中的文本:  文本\n",
      "选中的文本:  文本\n",
      "选中的文本:  /home/vkeilo/tmp\n",
      "选中的文本:  /home/vkeilo/tmpdir\n",
      "选中的文本:  /home/vkeilo/tmpdir\n",
      "选中的文本:  /home/vkeilo/tmpdir\n",
      "选中的文本:  2023年08月29日 星期二 11时\n",
      "选中的文本:  2023年08月29日 星期二 11时23分06秒\n",
      "选中的文本:  2023年08月29日 星期二 11时23分06秒\n"
     ]
    },
    {
     "ename": "KeyboardInterrupt",
     "evalue": "",
     "output_type": "error",
     "traceback": [
      "\u001b[0;31m---------------------------------------------------------------------------\u001b[0m",
      "\u001b[0;31mKeyboardInterrupt\u001b[0m                         Traceback (most recent call last)",
      "Cell \u001b[0;32mIn[10], line 16\u001b[0m\n\u001b[1;32m     14\u001b[0m \u001b[38;5;28;01mif\u001b[39;00m selected_text:\n\u001b[1;32m     15\u001b[0m     \u001b[38;5;28mprint\u001b[39m(\u001b[38;5;124m\"\u001b[39m\u001b[38;5;124m选中的文本: \u001b[39m\u001b[38;5;124m\"\u001b[39m, selected_text)\n\u001b[0;32m---> 16\u001b[0m \u001b[43mtime\u001b[49m\u001b[38;5;241;43m.\u001b[39;49m\u001b[43msleep\u001b[49m\u001b[43m(\u001b[49m\u001b[38;5;241;43m1\u001b[39;49m\u001b[43m)\u001b[49m\n",
      "\u001b[0;31mKeyboardInterrupt\u001b[0m: "
     ]
    }
   ],
   "source": [
    "import subprocess\n",
    "import time\n",
    "\n",
    "def get_selected_text():\n",
    "    try:\n",
    "        # 使用xsel命令获取鼠标当前选中的文本\n",
    "        selected_text = subprocess.check_output(['xsel', '-o'], universal_newlines=True).strip()\n",
    "        return selected_text\n",
    "    except subprocess.CalledProcessError:\n",
    "        return None\n",
    "\n",
    "while True:\n",
    "    selected_text = get_selected_text()\n",
    "    if selected_text:\n",
    "        print(\"选中的文本: \", selected_text)\n",
    "    time.sleep(1)\n"
   ]
  },
  {
   "cell_type": "code",
   "execution_count": 25,
   "id": "3c1bcdc2",
   "metadata": {},
   "outputs": [
    {
     "ename": "KeyboardInterrupt",
     "evalue": "",
     "output_type": "error",
     "traceback": [
      "\u001b[0;31m---------------------------------------------------------------------------\u001b[0m",
      "\u001b[0;31mKeyboardInterrupt\u001b[0m                         Traceback (most recent call last)",
      "Cell \u001b[0;32mIn[25], line 13\u001b[0m\n\u001b[1;32m     11\u001b[0m \u001b[38;5;66;03m# 启动监听器\u001b[39;00m\n\u001b[1;32m     12\u001b[0m \u001b[38;5;28;01mwith\u001b[39;00m listener:\n\u001b[0;32m---> 13\u001b[0m     \u001b[43mlistener\u001b[49m\u001b[38;5;241;43m.\u001b[39;49m\u001b[43mjoin\u001b[49m\u001b[43m(\u001b[49m\u001b[43m)\u001b[49m\n",
      "File \u001b[0;32m~/miniconda3/envs/api_use/lib/python3.9/site-packages/pynput/_util/__init__.py:269\u001b[0m, in \u001b[0;36mAbstractListener.join\u001b[0;34m(self, *args)\u001b[0m\n\u001b[1;32m    268\u001b[0m \u001b[38;5;28;01mdef\u001b[39;00m \u001b[38;5;21mjoin\u001b[39m(\u001b[38;5;28mself\u001b[39m, \u001b[38;5;241m*\u001b[39margs):\n\u001b[0;32m--> 269\u001b[0m     \u001b[38;5;28;43msuper\u001b[39;49m\u001b[43m(\u001b[49m\u001b[43mAbstractListener\u001b[49m\u001b[43m,\u001b[49m\u001b[43m \u001b[49m\u001b[38;5;28;43mself\u001b[39;49m\u001b[43m)\u001b[49m\u001b[38;5;241;43m.\u001b[39;49m\u001b[43mjoin\u001b[49m\u001b[43m(\u001b[49m\u001b[38;5;241;43m*\u001b[39;49m\u001b[43margs\u001b[49m\u001b[43m)\u001b[49m\n\u001b[1;32m    271\u001b[0m     \u001b[38;5;66;03m# Reraise any exceptions\u001b[39;00m\n\u001b[1;32m    272\u001b[0m     \u001b[38;5;28;01mtry\u001b[39;00m:\n",
      "File \u001b[0;32m~/miniconda3/envs/api_use/lib/python3.9/threading.py:1033\u001b[0m, in \u001b[0;36mThread.join\u001b[0;34m(self, timeout)\u001b[0m\n\u001b[1;32m   1030\u001b[0m     \u001b[38;5;28;01mraise\u001b[39;00m \u001b[38;5;167;01mRuntimeError\u001b[39;00m(\u001b[38;5;124m\"\u001b[39m\u001b[38;5;124mcannot join current thread\u001b[39m\u001b[38;5;124m\"\u001b[39m)\n\u001b[1;32m   1032\u001b[0m \u001b[38;5;28;01mif\u001b[39;00m timeout \u001b[38;5;129;01mis\u001b[39;00m \u001b[38;5;28;01mNone\u001b[39;00m:\n\u001b[0;32m-> 1033\u001b[0m     \u001b[38;5;28;43mself\u001b[39;49m\u001b[38;5;241;43m.\u001b[39;49m\u001b[43m_wait_for_tstate_lock\u001b[49m\u001b[43m(\u001b[49m\u001b[43m)\u001b[49m\n\u001b[1;32m   1034\u001b[0m \u001b[38;5;28;01melse\u001b[39;00m:\n\u001b[1;32m   1035\u001b[0m     \u001b[38;5;66;03m# the behavior of a negative timeout isn't documented, but\u001b[39;00m\n\u001b[1;32m   1036\u001b[0m     \u001b[38;5;66;03m# historically .join(timeout=x) for x<0 has acted as if timeout=0\u001b[39;00m\n\u001b[1;32m   1037\u001b[0m     \u001b[38;5;28mself\u001b[39m\u001b[38;5;241m.\u001b[39m_wait_for_tstate_lock(timeout\u001b[38;5;241m=\u001b[39m\u001b[38;5;28mmax\u001b[39m(timeout, \u001b[38;5;241m0\u001b[39m))\n",
      "File \u001b[0;32m~/miniconda3/envs/api_use/lib/python3.9/threading.py:1049\u001b[0m, in \u001b[0;36mThread._wait_for_tstate_lock\u001b[0;34m(self, block, timeout)\u001b[0m\n\u001b[1;32m   1047\u001b[0m \u001b[38;5;28;01mif\u001b[39;00m lock \u001b[38;5;129;01mis\u001b[39;00m \u001b[38;5;28;01mNone\u001b[39;00m:  \u001b[38;5;66;03m# already determined that the C code is done\u001b[39;00m\n\u001b[1;32m   1048\u001b[0m     \u001b[38;5;28;01massert\u001b[39;00m \u001b[38;5;28mself\u001b[39m\u001b[38;5;241m.\u001b[39m_is_stopped\n\u001b[0;32m-> 1049\u001b[0m \u001b[38;5;28;01melif\u001b[39;00m \u001b[43mlock\u001b[49m\u001b[38;5;241;43m.\u001b[39;49m\u001b[43macquire\u001b[49m\u001b[43m(\u001b[49m\u001b[43mblock\u001b[49m\u001b[43m,\u001b[49m\u001b[43m \u001b[49m\u001b[43mtimeout\u001b[49m\u001b[43m)\u001b[49m:\n\u001b[1;32m   1050\u001b[0m     lock\u001b[38;5;241m.\u001b[39mrelease()\n\u001b[1;32m   1051\u001b[0m     \u001b[38;5;28mself\u001b[39m\u001b[38;5;241m.\u001b[39m_stop()\n",
      "\u001b[0;31mKeyboardInterrupt\u001b[0m: "
     ]
    }
   ],
   "source": [
    "from pynput import keyboard\n",
    "\n",
    "def on_activate():\n",
    "    print(\"热键被触发\")\n",
    "\n",
    "# 创建热键监听器\n",
    "listener = keyboard.GlobalHotKeys({\n",
    "    '<ctrl>+<alt>+k': on_activate  # 定义热键组合及触发的函数\n",
    "})\n",
    "\n",
    "# 启动监听器\n",
    "with listener:\n",
    "    listener.join()\n",
    "\n",
    "\n"
   ]
  },
  {
   "cell_type": "code",
   "execution_count": 1,
   "id": "37f96f0b",
   "metadata": {},
   "outputs": [],
   "source": [
    "import subprocess\n",
    "from pynput import keyboard\n",
    "from agent_use import gpt_agent\n",
    "\n",
    "\n",
    "\n",
    "class assistant():\n",
    "    \n",
    "    def __init__(self):\n",
    "        self.agent = gpt_agent('chatglm2-6b')\n",
    "        self.tasks = {'translate':\"翻译一下以下内容:\\n\",'explain':\"解释一下以下内容：\\n\"}\n",
    "        self.know_reply = None\n",
    "        # self.listener = keyboard.GlobalHotKeys({\n",
    "        #     '<ctrl>+<alt>+1': self.run_task('translate'),\n",
    "        #     '<ctrl>+<alt>+2': self.run_task('explain')\n",
    "        # })\n",
    "        self.listener = keyboard.GlobalHotKeys({\n",
    "            '<ctrl>+<alt>+1': self.run_translate,\n",
    "            '<ctrl>+<alt>+2': self.run_explain\n",
    "        })\n",
    "\n",
    "    def run_translate(self):\n",
    "        self.agent.prompt_add(self.tasks['translate'] + self.get_selected_text())\n",
    "        reply = self.agent.prompt_post()\n",
    "        self.know_reply =  reply\n",
    "    \n",
    "    def run_explain(self):\n",
    "        self.agent.prompt_add(self.tasks['explain'] + self.get_selected_text())\n",
    "        reply = self.agent.prompt_post()\n",
    "        self.know_reply =  reply\n",
    "\n",
    "    def show_reply(self):\n",
    "        print(self.know_reply)\n",
    "\n",
    "    def start_work(self):\n",
    "        self.listener.start()\n",
    "        self.listener.join()\n",
    "\n",
    "    def get_selected_text(self):\n",
    "        try:\n",
    "            # 使用xsel命令获取鼠标当前选中的文本\n",
    "            selected_text = subprocess.check_output(['xsel', '-o'], universal_newlines=True).strip()\n",
    "            return selected_text\n",
    "        except subprocess.CalledProcessError:\n",
    "            return None\n"
   ]
  },
  {
   "cell_type": "code",
   "execution_count": 2,
   "id": "4d84956b",
   "metadata": {},
   "outputs": [],
   "source": [
    "test_asis = assistant()"
   ]
  },
  {
   "cell_type": "code",
   "execution_count": 16,
   "id": "203c2e12",
   "metadata": {},
   "outputs": [
    {
     "data": {
      "text/plain": [
       "[{'role': 'user',\n",
       "  'content': '你是一个工作小助手，现在有两个功能，分别是翻译文本和解释文本，当用户要求为翻译时，你进行中英翻译，并仅将用户提供的内容的译文输出，当用户要求为解释时，你将解释用户提供的文本或词句并输出'},\n",
       " {'role': 'assistant', 'content': '好的，我明白了。'},\n",
       " {'role': 'user', 'content': '翻译以下内容:\\n时间不过是一瞬'},\n",
       " {'role': 'assistant', 'content': 'Time is but a moment.'},\n",
       " {'role': 'user', 'content': '翻译以下内容:\\ntranslate'},\n",
       " {'role': 'assistant', 'content': '翻译'},\n",
       " {'role': 'user', 'content': '介绍或者解释以下内容：\\n飞盘'},\n",
       " {'role': 'assistant',\n",
       "  'content': '飞盘，也称为飞碟或飞行盘，是一种玩具或运动器材，通常由塑料制成，具有扁平且圆形的形状，类似于一个浅盘子或碟子。飞盘通常用于户外娱乐和锻炼，以及一些竞技运动，如飞盘高尔夫和飞盘综合运动。'},\n",
       " {'role': 'user', 'content': '介绍或者解释以下内容：\\nsubprocess'},\n",
       " {'role': 'assistant',\n",
       "  'content': ' subprocess 是 Python 标准库中的一个模块，用于启动和控制外部进程，以便在 Python 程序中与它们进行交互。它允许你在 Python 程序中执行命令行命令，获取命令的输出，并与命令交互。'},\n",
       " {'role': 'user', 'content': '翻译以下内容:\\n命令'},\n",
       " {'role': 'assistant', 'content': 'command'},\n",
       " {'role': 'user', 'content': '接下来翻译以下内容:\\nalt'},\n",
       " {'role': 'assistant', 'content': 'alt 是一个单词，它的中文翻译是“代替”、“替代”或“备选”。'}]"
      ]
     },
     "execution_count": 16,
     "metadata": {},
     "output_type": "execute_result"
    }
   ],
   "source": [
    "test_asis.agent.messages"
   ]
  },
  {
   "cell_type": "code",
   "execution_count": 4,
   "id": "d16c39c8",
   "metadata": {},
   "outputs": [
    {
     "data": {
      "text/plain": [
       "list"
      ]
     },
     "execution_count": 4,
     "metadata": {},
     "output_type": "execute_result"
    }
   ],
   "source": [
    "type(test_asis.agent.messages)"
   ]
  },
  {
   "cell_type": "code",
   "execution_count": 37,
   "id": "69b52c5e",
   "metadata": {},
   "outputs": [
    {
     "name": "stderr",
     "output_type": "stream",
     "text": [
      "Unhandled exception in listener callback\n",
      "Traceback (most recent call last):\n",
      "  File \"/home/vkeilo/miniconda3/envs/api_use/lib/python3.9/site-packages/pynput/_util/__init__.py\", line 228, in inner\n",
      "    return f(self, *args, **kwargs)\n",
      "  File \"/home/vkeilo/miniconda3/envs/api_use/lib/python3.9/site-packages/pynput/_util/xorg.py\", line 470, in _handler\n",
      "    self._handle(self._display_stop, event)\n",
      "  File \"/home/vkeilo/miniconda3/envs/api_use/lib/python3.9/site-packages/pynput/keyboard/_xorg.py\", line 564, in _handle\n",
      "    self.on_press(key)\n",
      "  File \"/home/vkeilo/miniconda3/envs/api_use/lib/python3.9/site-packages/pynput/_util/__init__.py\", line 144, in inner\n",
      "    if f(*args) is False:\n",
      "  File \"/home/vkeilo/miniconda3/envs/api_use/lib/python3.9/site-packages/pynput/keyboard/__init__.py\", line 223, in _on_press\n",
      "    hotkey.press(self.canonical(key))\n",
      "  File \"/home/vkeilo/miniconda3/envs/api_use/lib/python3.9/site-packages/pynput/keyboard/__init__.py\", line 182, in press\n",
      "    self._on_activate()\n",
      "  File \"/tmp/ipykernel_9327/1857043752.py\", line 23, in run_translate\n",
      "    self.agent.prompt_add(self.tasks['translate'] + self.get_selected_text())\n",
      "  File \"/media/vkeilo/Titan/chat-api-use/agent_use.py\", line 36, in prompt_add\n",
      "    self.history_add_one(\"user\",text)\n",
      "  File \"/media/vkeilo/Titan/chat-api-use/agent_use.py\", line 26, in history_add_one\n",
      "    self.messages.append({\"role\":role, \"content\": text})\n",
      "AttributeError: 'NoneType' object has no attribute 'append'\n"
     ]
    },
    {
     "ename": "AttributeError",
     "evalue": "'NoneType' object has no attribute 'append'",
     "output_type": "error",
     "traceback": [
      "\u001b[0;31m---------------------------------------------------------------------------\u001b[0m",
      "\u001b[0;31mAttributeError\u001b[0m                            Traceback (most recent call last)",
      "Cell \u001b[0;32mIn[37], line 1\u001b[0m\n\u001b[0;32m----> 1\u001b[0m \u001b[43mtest_asis\u001b[49m\u001b[38;5;241;43m.\u001b[39;49m\u001b[43mstart_work\u001b[49m\u001b[43m(\u001b[49m\u001b[43m)\u001b[49m\n",
      "Cell \u001b[0;32mIn[35], line 37\u001b[0m, in \u001b[0;36massistant.start_work\u001b[0;34m(self)\u001b[0m\n\u001b[1;32m     35\u001b[0m \u001b[38;5;28;01mdef\u001b[39;00m \u001b[38;5;21mstart_work\u001b[39m(\u001b[38;5;28mself\u001b[39m):\n\u001b[1;32m     36\u001b[0m     \u001b[38;5;28mself\u001b[39m\u001b[38;5;241m.\u001b[39mlistener\u001b[38;5;241m.\u001b[39mstart()\n\u001b[0;32m---> 37\u001b[0m     \u001b[38;5;28;43mself\u001b[39;49m\u001b[38;5;241;43m.\u001b[39;49m\u001b[43mlistener\u001b[49m\u001b[38;5;241;43m.\u001b[39;49m\u001b[43mjoin\u001b[49m\u001b[43m(\u001b[49m\u001b[43m)\u001b[49m\n",
      "File \u001b[0;32m~/miniconda3/envs/api_use/lib/python3.9/site-packages/pynput/_util/__init__.py:276\u001b[0m, in \u001b[0;36mAbstractListener.join\u001b[0;34m(self, *args)\u001b[0m\n\u001b[1;32m    274\u001b[0m \u001b[38;5;28;01mexcept\u001b[39;00m \u001b[38;5;167;01mTypeError\u001b[39;00m:\n\u001b[1;32m    275\u001b[0m     \u001b[38;5;28;01mreturn\u001b[39;00m\n\u001b[0;32m--> 276\u001b[0m \u001b[43msix\u001b[49m\u001b[38;5;241;43m.\u001b[39;49m\u001b[43mreraise\u001b[49m\u001b[43m(\u001b[49m\u001b[43mexc_type\u001b[49m\u001b[43m,\u001b[49m\u001b[43m \u001b[49m\u001b[43mexc_value\u001b[49m\u001b[43m,\u001b[49m\u001b[43m \u001b[49m\u001b[43mexc_traceback\u001b[49m\u001b[43m)\u001b[49m\n",
      "File \u001b[0;32m~/miniconda3/envs/api_use/lib/python3.9/site-packages/six.py:718\u001b[0m, in \u001b[0;36mreraise\u001b[0;34m(tp, value, tb)\u001b[0m\n\u001b[1;32m    716\u001b[0m         value \u001b[38;5;241m=\u001b[39m tp()\n\u001b[1;32m    717\u001b[0m     \u001b[38;5;28;01mif\u001b[39;00m value\u001b[38;5;241m.\u001b[39m__traceback__ \u001b[38;5;129;01mis\u001b[39;00m \u001b[38;5;129;01mnot\u001b[39;00m tb:\n\u001b[0;32m--> 718\u001b[0m         \u001b[38;5;28;01mraise\u001b[39;00m value\u001b[38;5;241m.\u001b[39mwith_traceback(tb)\n\u001b[1;32m    719\u001b[0m     \u001b[38;5;28;01mraise\u001b[39;00m value\n\u001b[1;32m    720\u001b[0m \u001b[38;5;28;01mfinally\u001b[39;00m:\n",
      "File \u001b[0;32m~/miniconda3/envs/api_use/lib/python3.9/site-packages/pynput/_util/__init__.py:228\u001b[0m, in \u001b[0;36mAbstractListener._emitter.<locals>.inner\u001b[0;34m(self, *args, **kwargs)\u001b[0m\n\u001b[1;32m    224\u001b[0m \u001b[38;5;129m@functools\u001b[39m\u001b[38;5;241m.\u001b[39mwraps(f)\n\u001b[1;32m    225\u001b[0m \u001b[38;5;28;01mdef\u001b[39;00m \u001b[38;5;21minner\u001b[39m(\u001b[38;5;28mself\u001b[39m, \u001b[38;5;241m*\u001b[39margs, \u001b[38;5;241m*\u001b[39m\u001b[38;5;241m*\u001b[39mkwargs):\n\u001b[1;32m    226\u001b[0m     \u001b[38;5;66;03m# pylint: disable=W0702; we want to catch all exception\u001b[39;00m\n\u001b[1;32m    227\u001b[0m     \u001b[38;5;28;01mtry\u001b[39;00m:\n\u001b[0;32m--> 228\u001b[0m         \u001b[38;5;28;01mreturn\u001b[39;00m \u001b[43mf\u001b[49m\u001b[43m(\u001b[49m\u001b[38;5;28;43mself\u001b[39;49m\u001b[43m,\u001b[49m\u001b[43m \u001b[49m\u001b[38;5;241;43m*\u001b[39;49m\u001b[43margs\u001b[49m\u001b[43m,\u001b[49m\u001b[43m \u001b[49m\u001b[38;5;241;43m*\u001b[39;49m\u001b[38;5;241;43m*\u001b[39;49m\u001b[43mkwargs\u001b[49m\u001b[43m)\u001b[49m\n\u001b[1;32m    229\u001b[0m     \u001b[38;5;28;01mexcept\u001b[39;00m \u001b[38;5;167;01mException\u001b[39;00m \u001b[38;5;28;01mas\u001b[39;00m e:\n\u001b[1;32m    230\u001b[0m         \u001b[38;5;28;01mif\u001b[39;00m \u001b[38;5;129;01mnot\u001b[39;00m \u001b[38;5;28misinstance\u001b[39m(e, \u001b[38;5;28mself\u001b[39m\u001b[38;5;241m.\u001b[39m_HANDLED_EXCEPTIONS):\n",
      "File \u001b[0;32m~/miniconda3/envs/api_use/lib/python3.9/site-packages/pynput/_util/xorg.py:470\u001b[0m, in \u001b[0;36mListenerMixin._handler\u001b[0;34m(self, events)\u001b[0m\n\u001b[1;32m    467\u001b[0m \u001b[38;5;28;01mwhile\u001b[39;00m data \u001b[38;5;129;01mand\u001b[39;00m \u001b[38;5;28mlen\u001b[39m(data):\n\u001b[1;32m    468\u001b[0m     event, data \u001b[38;5;241m=\u001b[39m \u001b[38;5;28mself\u001b[39m\u001b[38;5;241m.\u001b[39m_EVENT_PARSER\u001b[38;5;241m.\u001b[39mparse_binary_value(\n\u001b[1;32m    469\u001b[0m         data, \u001b[38;5;28mself\u001b[39m\u001b[38;5;241m.\u001b[39m_display_record\u001b[38;5;241m.\u001b[39mdisplay, \u001b[38;5;28;01mNone\u001b[39;00m, \u001b[38;5;28;01mNone\u001b[39;00m)\n\u001b[0;32m--> 470\u001b[0m     \u001b[38;5;28;43mself\u001b[39;49m\u001b[38;5;241;43m.\u001b[39;49m\u001b[43m_handle\u001b[49m\u001b[43m(\u001b[49m\u001b[38;5;28;43mself\u001b[39;49m\u001b[38;5;241;43m.\u001b[39;49m\u001b[43m_display_stop\u001b[49m\u001b[43m,\u001b[49m\u001b[43m \u001b[49m\u001b[43mevent\u001b[49m\u001b[43m)\u001b[49m\n",
      "File \u001b[0;32m~/miniconda3/envs/api_use/lib/python3.9/site-packages/pynput/keyboard/_xorg.py:564\u001b[0m, in \u001b[0;36mListener._handle\u001b[0;34m(self, display, event)\u001b[0m\n\u001b[1;32m    561\u001b[0m     key \u001b[38;5;241m=\u001b[39m \u001b[38;5;28;01mNone\u001b[39;00m\n\u001b[1;32m    563\u001b[0m \u001b[38;5;28;01mif\u001b[39;00m event\u001b[38;5;241m.\u001b[39mtype \u001b[38;5;241m==\u001b[39m Xlib\u001b[38;5;241m.\u001b[39mX\u001b[38;5;241m.\u001b[39mKeyPress:\n\u001b[0;32m--> 564\u001b[0m     \u001b[38;5;28;43mself\u001b[39;49m\u001b[38;5;241;43m.\u001b[39;49m\u001b[43mon_press\u001b[49m\u001b[43m(\u001b[49m\u001b[43mkey\u001b[49m\u001b[43m)\u001b[49m\n\u001b[1;32m    566\u001b[0m \u001b[38;5;28;01melif\u001b[39;00m event\u001b[38;5;241m.\u001b[39mtype \u001b[38;5;241m==\u001b[39m Xlib\u001b[38;5;241m.\u001b[39mX\u001b[38;5;241m.\u001b[39mKeyRelease:\n\u001b[1;32m    567\u001b[0m     \u001b[38;5;28mself\u001b[39m\u001b[38;5;241m.\u001b[39mon_release(key)\n",
      "File \u001b[0;32m~/miniconda3/envs/api_use/lib/python3.9/site-packages/pynput/_util/__init__.py:144\u001b[0m, in \u001b[0;36mAbstractListener.__init__.<locals>.wrapper.<locals>.inner\u001b[0;34m(*args)\u001b[0m\n\u001b[1;32m    143\u001b[0m \u001b[38;5;28;01mdef\u001b[39;00m \u001b[38;5;21minner\u001b[39m(\u001b[38;5;241m*\u001b[39margs):\n\u001b[0;32m--> 144\u001b[0m     \u001b[38;5;28;01mif\u001b[39;00m \u001b[43mf\u001b[49m\u001b[43m(\u001b[49m\u001b[38;5;241;43m*\u001b[39;49m\u001b[43margs\u001b[49m\u001b[43m)\u001b[49m \u001b[38;5;129;01mis\u001b[39;00m \u001b[38;5;28;01mFalse\u001b[39;00m:\n\u001b[1;32m    145\u001b[0m         \u001b[38;5;28;01mraise\u001b[39;00m \u001b[38;5;28mself\u001b[39m\u001b[38;5;241m.\u001b[39mStopException()\n",
      "File \u001b[0;32m~/miniconda3/envs/api_use/lib/python3.9/site-packages/pynput/keyboard/__init__.py:223\u001b[0m, in \u001b[0;36mGlobalHotKeys._on_press\u001b[0;34m(self, key)\u001b[0m\n\u001b[1;32m    216\u001b[0m \u001b[38;5;250m\u001b[39m\u001b[38;5;124;03m\"\"\"The press callback.\u001b[39;00m\n\u001b[1;32m    217\u001b[0m \n\u001b[1;32m    218\u001b[0m \u001b[38;5;124;03mThis is automatically registered upon creation.\u001b[39;00m\n\u001b[1;32m    219\u001b[0m \n\u001b[1;32m    220\u001b[0m \u001b[38;5;124;03m:param key: The key provided by the base class.\u001b[39;00m\n\u001b[1;32m    221\u001b[0m \u001b[38;5;124;03m\"\"\"\u001b[39;00m\n\u001b[1;32m    222\u001b[0m \u001b[38;5;28;01mfor\u001b[39;00m hotkey \u001b[38;5;129;01min\u001b[39;00m \u001b[38;5;28mself\u001b[39m\u001b[38;5;241m.\u001b[39m_hotkeys:\n\u001b[0;32m--> 223\u001b[0m     \u001b[43mhotkey\u001b[49m\u001b[38;5;241;43m.\u001b[39;49m\u001b[43mpress\u001b[49m\u001b[43m(\u001b[49m\u001b[38;5;28;43mself\u001b[39;49m\u001b[38;5;241;43m.\u001b[39;49m\u001b[43mcanonical\u001b[49m\u001b[43m(\u001b[49m\u001b[43mkey\u001b[49m\u001b[43m)\u001b[49m\u001b[43m)\u001b[49m\n",
      "File \u001b[0;32m~/miniconda3/envs/api_use/lib/python3.9/site-packages/pynput/keyboard/__init__.py:182\u001b[0m, in \u001b[0;36mHotKey.press\u001b[0;34m(self, key)\u001b[0m\n\u001b[1;32m    180\u001b[0m \u001b[38;5;28mself\u001b[39m\u001b[38;5;241m.\u001b[39m_state\u001b[38;5;241m.\u001b[39madd(key)\n\u001b[1;32m    181\u001b[0m \u001b[38;5;28;01mif\u001b[39;00m \u001b[38;5;28mself\u001b[39m\u001b[38;5;241m.\u001b[39m_state \u001b[38;5;241m==\u001b[39m \u001b[38;5;28mself\u001b[39m\u001b[38;5;241m.\u001b[39m_keys:\n\u001b[0;32m--> 182\u001b[0m     \u001b[38;5;28;43mself\u001b[39;49m\u001b[38;5;241;43m.\u001b[39;49m\u001b[43m_on_activate\u001b[49m\u001b[43m(\u001b[49m\u001b[43m)\u001b[49m\n",
      "Cell \u001b[0;32mIn[35], line 23\u001b[0m, in \u001b[0;36massistant.run_translate\u001b[0;34m(self)\u001b[0m\n\u001b[1;32m     22\u001b[0m \u001b[38;5;28;01mdef\u001b[39;00m \u001b[38;5;21mrun_translate\u001b[39m(\u001b[38;5;28mself\u001b[39m):\n\u001b[0;32m---> 23\u001b[0m     \u001b[38;5;28;43mself\u001b[39;49m\u001b[38;5;241;43m.\u001b[39;49m\u001b[43magent\u001b[49m\u001b[38;5;241;43m.\u001b[39;49m\u001b[43mprompt_add\u001b[49m\u001b[43m(\u001b[49m\u001b[38;5;28;43mself\u001b[39;49m\u001b[38;5;241;43m.\u001b[39;49m\u001b[43mtasks\u001b[49m\u001b[43m[\u001b[49m\u001b[38;5;124;43m'\u001b[39;49m\u001b[38;5;124;43mtranslate\u001b[39;49m\u001b[38;5;124;43m'\u001b[39;49m\u001b[43m]\u001b[49m\u001b[43m \u001b[49m\u001b[38;5;241;43m+\u001b[39;49m\u001b[43m \u001b[49m\u001b[38;5;28;43mself\u001b[39;49m\u001b[38;5;241;43m.\u001b[39;49m\u001b[43mget_selected_text\u001b[49m\u001b[43m(\u001b[49m\u001b[43m)\u001b[49m\u001b[43m)\u001b[49m\n\u001b[1;32m     24\u001b[0m     reply \u001b[38;5;241m=\u001b[39m \u001b[38;5;28mself\u001b[39m\u001b[38;5;241m.\u001b[39magent\u001b[38;5;241m.\u001b[39mprompt_post()\n\u001b[1;32m     25\u001b[0m     \u001b[38;5;28mself\u001b[39m\u001b[38;5;241m.\u001b[39mknow_reply \u001b[38;5;241m=\u001b[39m  reply\n",
      "File \u001b[0;32m/media/vkeilo/Titan/chat-api-use/agent_use.py:36\u001b[0m, in \u001b[0;36mgpt_agent.prompt_add\u001b[0;34m(self, text)\u001b[0m\n\u001b[1;32m     35\u001b[0m \u001b[38;5;28;01mdef\u001b[39;00m \u001b[38;5;21mprompt_add\u001b[39m(\u001b[38;5;28mself\u001b[39m,text):\n\u001b[0;32m---> 36\u001b[0m     \u001b[38;5;28;43mself\u001b[39;49m\u001b[38;5;241;43m.\u001b[39;49m\u001b[43mhistory_add_one\u001b[49m\u001b[43m(\u001b[49m\u001b[38;5;124;43m\"\u001b[39;49m\u001b[38;5;124;43muser\u001b[39;49m\u001b[38;5;124;43m\"\u001b[39;49m\u001b[43m,\u001b[49m\u001b[43mtext\u001b[49m\u001b[43m)\u001b[49m\n",
      "File \u001b[0;32m/media/vkeilo/Titan/chat-api-use/agent_use.py:26\u001b[0m, in \u001b[0;36mgpt_agent.history_add_one\u001b[0;34m(self, role, text)\u001b[0m\n\u001b[1;32m     25\u001b[0m \u001b[38;5;28;01mdef\u001b[39;00m \u001b[38;5;21mhistory_add_one\u001b[39m(\u001b[38;5;28mself\u001b[39m,role,text):\n\u001b[0;32m---> 26\u001b[0m     \u001b[38;5;28;43mself\u001b[39;49m\u001b[38;5;241;43m.\u001b[39;49m\u001b[43mmessages\u001b[49m\u001b[38;5;241;43m.\u001b[39;49m\u001b[43mappend\u001b[49m({\u001b[38;5;124m\"\u001b[39m\u001b[38;5;124mrole\u001b[39m\u001b[38;5;124m\"\u001b[39m:role, \u001b[38;5;124m\"\u001b[39m\u001b[38;5;124mcontent\u001b[39m\u001b[38;5;124m\"\u001b[39m: text})\n",
      "\u001b[0;31mAttributeError\u001b[0m: 'NoneType' object has no attribute 'append'"
     ]
    }
   ],
   "source": [
    "test_asis.start_work()"
   ]
  },
  {
   "cell_type": "code",
   "execution_count": 15,
   "id": "c8b81b90",
   "metadata": {},
   "outputs": [
    {
     "name": "stdout",
     "output_type": "stream",
     "text": [
      "alt 是 Linux 和 Windows 操作系统中的一个常见快捷键，用于与基于终端的用户界面进行交互。在 Linux 中，通常按下 Alt + Space 来打开终端。\n",
      "好的，以下内容为：\n",
      "alt\n",
      "alt 是一个单词，它的中文翻译是“代替”、“替代”或“备选”。\n",
      "alt 是希腊字母表中的第 18 位字母，它的形状类似于一个带有斜杠的字母 X。\n"
     ]
    },
    {
     "ename": "KeyboardInterrupt",
     "evalue": "",
     "output_type": "error",
     "traceback": [
      "\u001b[0;31m---------------------------------------------------------------------------\u001b[0m",
      "\u001b[0;31mKeyboardInterrupt\u001b[0m                         Traceback (most recent call last)",
      "Cell \u001b[0;32mIn[15], line 52\u001b[0m\n\u001b[1;32m     48\u001b[0m             \u001b[38;5;28;01mreturn\u001b[39;00m \u001b[38;5;28;01mNone\u001b[39;00m\n\u001b[1;32m     51\u001b[0m test_asis \u001b[38;5;241m=\u001b[39m assistant()\n\u001b[0;32m---> 52\u001b[0m \u001b[43mtest_asis\u001b[49m\u001b[38;5;241;43m.\u001b[39;49m\u001b[43mstart_work\u001b[49m\u001b[43m(\u001b[49m\u001b[43m)\u001b[49m\n",
      "Cell \u001b[0;32mIn[15], line 40\u001b[0m, in \u001b[0;36massistant.start_work\u001b[0;34m(self)\u001b[0m\n\u001b[1;32m     38\u001b[0m \u001b[38;5;28;01mdef\u001b[39;00m \u001b[38;5;21mstart_work\u001b[39m(\u001b[38;5;28mself\u001b[39m):\n\u001b[1;32m     39\u001b[0m     \u001b[38;5;28mself\u001b[39m\u001b[38;5;241m.\u001b[39mlistener\u001b[38;5;241m.\u001b[39mstart()\n\u001b[0;32m---> 40\u001b[0m     \u001b[38;5;28;43mself\u001b[39;49m\u001b[38;5;241;43m.\u001b[39;49m\u001b[43mlistener\u001b[49m\u001b[38;5;241;43m.\u001b[39;49m\u001b[43mjoin\u001b[49m\u001b[43m(\u001b[49m\u001b[43m)\u001b[49m\n",
      "File \u001b[0;32m~/miniconda3/envs/api_use/lib/python3.9/site-packages/pynput/_util/__init__.py:269\u001b[0m, in \u001b[0;36mAbstractListener.join\u001b[0;34m(self, *args)\u001b[0m\n\u001b[1;32m    268\u001b[0m \u001b[38;5;28;01mdef\u001b[39;00m \u001b[38;5;21mjoin\u001b[39m(\u001b[38;5;28mself\u001b[39m, \u001b[38;5;241m*\u001b[39margs):\n\u001b[0;32m--> 269\u001b[0m     \u001b[38;5;28;43msuper\u001b[39;49m\u001b[43m(\u001b[49m\u001b[43mAbstractListener\u001b[49m\u001b[43m,\u001b[49m\u001b[43m \u001b[49m\u001b[38;5;28;43mself\u001b[39;49m\u001b[43m)\u001b[49m\u001b[38;5;241;43m.\u001b[39;49m\u001b[43mjoin\u001b[49m\u001b[43m(\u001b[49m\u001b[38;5;241;43m*\u001b[39;49m\u001b[43margs\u001b[49m\u001b[43m)\u001b[49m\n\u001b[1;32m    271\u001b[0m     \u001b[38;5;66;03m# Reraise any exceptions\u001b[39;00m\n\u001b[1;32m    272\u001b[0m     \u001b[38;5;28;01mtry\u001b[39;00m:\n",
      "File \u001b[0;32m~/miniconda3/envs/api_use/lib/python3.9/threading.py:1033\u001b[0m, in \u001b[0;36mThread.join\u001b[0;34m(self, timeout)\u001b[0m\n\u001b[1;32m   1030\u001b[0m     \u001b[38;5;28;01mraise\u001b[39;00m \u001b[38;5;167;01mRuntimeError\u001b[39;00m(\u001b[38;5;124m\"\u001b[39m\u001b[38;5;124mcannot join current thread\u001b[39m\u001b[38;5;124m\"\u001b[39m)\n\u001b[1;32m   1032\u001b[0m \u001b[38;5;28;01mif\u001b[39;00m timeout \u001b[38;5;129;01mis\u001b[39;00m \u001b[38;5;28;01mNone\u001b[39;00m:\n\u001b[0;32m-> 1033\u001b[0m     \u001b[38;5;28;43mself\u001b[39;49m\u001b[38;5;241;43m.\u001b[39;49m\u001b[43m_wait_for_tstate_lock\u001b[49m\u001b[43m(\u001b[49m\u001b[43m)\u001b[49m\n\u001b[1;32m   1034\u001b[0m \u001b[38;5;28;01melse\u001b[39;00m:\n\u001b[1;32m   1035\u001b[0m     \u001b[38;5;66;03m# the behavior of a negative timeout isn't documented, but\u001b[39;00m\n\u001b[1;32m   1036\u001b[0m     \u001b[38;5;66;03m# historically .join(timeout=x) for x<0 has acted as if timeout=0\u001b[39;00m\n\u001b[1;32m   1037\u001b[0m     \u001b[38;5;28mself\u001b[39m\u001b[38;5;241m.\u001b[39m_wait_for_tstate_lock(timeout\u001b[38;5;241m=\u001b[39m\u001b[38;5;28mmax\u001b[39m(timeout, \u001b[38;5;241m0\u001b[39m))\n",
      "File \u001b[0;32m~/miniconda3/envs/api_use/lib/python3.9/threading.py:1049\u001b[0m, in \u001b[0;36mThread._wait_for_tstate_lock\u001b[0;34m(self, block, timeout)\u001b[0m\n\u001b[1;32m   1047\u001b[0m \u001b[38;5;28;01mif\u001b[39;00m lock \u001b[38;5;129;01mis\u001b[39;00m \u001b[38;5;28;01mNone\u001b[39;00m:  \u001b[38;5;66;03m# already determined that the C code is done\u001b[39;00m\n\u001b[1;32m   1048\u001b[0m     \u001b[38;5;28;01massert\u001b[39;00m \u001b[38;5;28mself\u001b[39m\u001b[38;5;241m.\u001b[39m_is_stopped\n\u001b[0;32m-> 1049\u001b[0m \u001b[38;5;28;01melif\u001b[39;00m \u001b[43mlock\u001b[49m\u001b[38;5;241;43m.\u001b[39;49m\u001b[43macquire\u001b[49m\u001b[43m(\u001b[49m\u001b[43mblock\u001b[49m\u001b[43m,\u001b[49m\u001b[43m \u001b[49m\u001b[43mtimeout\u001b[49m\u001b[43m)\u001b[49m:\n\u001b[1;32m   1050\u001b[0m     lock\u001b[38;5;241m.\u001b[39mrelease()\n\u001b[1;32m   1051\u001b[0m     \u001b[38;5;28mself\u001b[39m\u001b[38;5;241m.\u001b[39m_stop()\n",
      "\u001b[0;31mKeyboardInterrupt\u001b[0m: "
     ]
    }
   ],
   "source": [
    "import subprocess\n",
    "from pynput import keyboard\n",
    "from agent_use import gpt_agent\n",
    "\n",
    "\n",
    "\n",
    "class assistant():\n",
    "    \n",
    "    def __init__(self):\n",
    "        self.agent = gpt_agent('chatglm2-6b')\n",
    "        self.agent.init_messages_by_json('assistant.json')\n",
    "        self.tasks = {'translate':\"翻译以下内容:\\n\",'explain':\"解释以下内容：\\n\"}\n",
    "        self.know_reply = None\n",
    "        # self.listener = keyboard.GlobalHotKeys({\n",
    "        #     '<ctrl>+<alt>+1': self.run_task('translate'),\n",
    "        #     '<ctrl>+<alt>+2': self.run_task('explain')\n",
    "        # })\n",
    "        self.listener = keyboard.GlobalHotKeys({\n",
    "            '<ctrl>+<alt>+1': self.run_translate,\n",
    "            '<ctrl>+<alt>+2': self.run_explain\n",
    "        })\n",
    "\n",
    "    def run_translate(self):\n",
    "        self.agent.prompt_add(self.tasks['translate'] + self.get_selected_text())\n",
    "        reply = self.agent.prompt_post()\n",
    "        self.know_reply =  reply\n",
    "        self.show_reply()\n",
    "    \n",
    "    def run_explain(self):\n",
    "        self.agent.prompt_add(self.tasks['explain'] + self.get_selected_text())\n",
    "        reply = self.agent.prompt_post()\n",
    "        self.know_reply =  reply\n",
    "        self.show_reply()\n",
    "\n",
    "    def show_reply(self):\n",
    "        print(self.know_reply)\n",
    "\n",
    "    def start_work(self):\n",
    "        self.listener.start()\n",
    "        self.listener.join()\n",
    "\n",
    "    def get_selected_text(self):\n",
    "        try:\n",
    "            # 使用xsel命令获取鼠标当前选中的文本\n",
    "            selected_text = subprocess.check_output(['xsel', '-o'], universal_newlines=True).strip()\n",
    "            return selected_text\n",
    "        except subprocess.CalledProcessError:\n",
    "            return None\n",
    "\n",
    "\n",
    "test_asis = assistant()\n",
    "test_asis.start_work()"
   ]
  },
  {
   "cell_type": "code",
   "execution_count": null,
   "id": "aaf9ab7e",
   "metadata": {},
   "outputs": [],
   "source": []
  }
 ],
 "metadata": {
  "kernelspec": {
   "display_name": "api_use",
   "language": "python",
   "name": "api_use"
  },
  "language_info": {
   "codemirror_mode": {
    "name": "ipython",
    "version": 3
   },
   "file_extension": ".py",
   "mimetype": "text/x-python",
   "name": "python",
   "nbconvert_exporter": "python",
   "pygments_lexer": "ipython3",
   "version": "3.9.5"
  }
 },
 "nbformat": 4,
 "nbformat_minor": 5
}
