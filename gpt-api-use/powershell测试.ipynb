{
 "cells": [
  {
   "cell_type": "code",
   "execution_count": 1,
   "id": "35b5cb97",
   "metadata": {},
   "outputs": [],
   "source": [
    "import subprocess\n",
    "import threading\n",
    "import re\n",
    "\n",
    "class PowerShellAgent:\n",
    "    def __init__(self, output_file):\n",
    "        self.output_file = output_file\n",
    "        self.proc = None\n",
    "        self.thread = None\n",
    "        self.break_flag = threading.Event()\n",
    "        self.state = 'no running'\n",
    "    def start_powershell(self):\n",
    "        if  self.state !=  'no running':\n",
    "            \n",
    "            print('Only in state \\'no running\\' can start listening!')\n",
    "            return\n",
    "#         self.proc = subprocess.Popen([\"powershell\"], stdin=subprocess.PIPE, stdout=subprocess.PIPE, stderr=subprocess.PIPE, text=True)\n",
    "        # 将错误输出重定向到了标准输出，便于一并读取保存\n",
    "        self.proc = subprocess.Popen([\"powershell\"], stdin=subprocess.PIPE, stdout=subprocess.PIPE, stderr=subprocess.STDOUT, text=True)\n",
    "        self.state = 'running'\n",
    "    def start_listening(self):\n",
    "\n",
    "        if self.state != 'running':\n",
    "            print('Only in state \\'running\\' can start listening!')\n",
    "            return\n",
    "        self.state = 'running and listening'\n",
    "        self.break_flag.clear()\n",
    "        self.thread = threading.Thread(target=self.listen_powershell_output)\n",
    "        self.thread.start()\n",
    "    def run_powershell_command(self, cmd):\n",
    "        # 向 PowerShell 进程发送命令\n",
    "        self.proc.stdin.write(cmd + \"\\n\")\n",
    "        self.proc.stdin.flush()\n",
    "    def stop_listening(self):\n",
    "        if self.state != 'running and listening':\n",
    "            print('Only in state \\'running and listening\\' can stop listening!')\n",
    "            return\n",
    "        self.state = 'running'\n",
    "        self.run_powershell_command('echo stop_agent_output')\n",
    "        self.break_flag.set()\n",
    "        self.thread.join()\n",
    "    def listen_powershell_output(self):\n",
    "        with open(self.output_file, \"a\") as f:\n",
    "            while not self.break_flag.is_set():\n",
    "                line = self.proc.stdout.readline().strip()\n",
    "                if line.endswith('stop_agent_output'):\n",
    "                    continue\n",
    "                f.write(line + \"\\n\")\n",
    "                f.flush()\n",
    "    def powershell_shutdown(self):\n",
    "        if self.state != 'running':\n",
    "            print('Only in state \\'running\\' can stop powershell!')\n",
    "            return\n",
    "        self.state = 'no running' \n",
    "        self.proc.terminate()\n",
    "    def check_state(self):\n",
    "        print(f'now agent state:  {self.state}')\n",
    "    def get_final_output(self,target_log_file=None):\n",
    "        if not target_log_file:\n",
    "            target_log_file=self.output_file\n",
    "        out_put_text = \"\"\n",
    "        with open(target_log_file, \"r\") as f:\n",
    "            file_content = f.read()\n",
    "            # 如果指定的cmd为None，将文件中最后一条指令及其输出赋值给out_put_text\n",
    "            pattern = r\"(?s)(?P<command_output>PS\\s[^>]+\\>\\s.+?\\n)\"  # 匹配最后一条指令及其输出的正则表达式\n",
    "            match = re.findall(pattern, file_content)\n",
    "            out_put_text=file_content.split(match[-1])[-1]\n",
    "        return out_put_text\n"
   ]
  },
  {
   "cell_type": "code",
   "execution_count": 143,
   "id": "ddfec947",
   "metadata": {},
   "outputs": [
    {
     "data": {
      "text/plain": [
       "''"
      ]
     },
     "execution_count": 143,
     "metadata": {},
     "output_type": "execute_result"
    }
   ],
   "source": [
    "get_final_output(\"output.txt\")"
   ]
  },
  {
   "cell_type": "code",
   "execution_count": 3,
   "id": "598f0409",
   "metadata": {},
   "outputs": [],
   "source": [
    "listener = PowerShellAgent(\"output.txt\")"
   ]
  },
  {
   "cell_type": "code",
   "execution_count": 4,
   "id": "a888cb42",
   "metadata": {},
   "outputs": [
    {
     "data": {
      "text/plain": [
       "''"
      ]
     },
     "execution_count": 4,
     "metadata": {},
     "output_type": "execute_result"
    }
   ],
   "source": [
    "listener.get_final_output(\"output.txt\")"
   ]
  },
  {
   "cell_type": "code",
   "execution_count": 2,
   "id": "a5829bb7",
   "metadata": {},
   "outputs": [],
   "source": [
    "listener = PowerShellAgent(\"output.txt\")\n",
    "listener.start_powershell()\n",
    "listener.start_listening()\n",
    "\n"
   ]
  },
  {
   "cell_type": "code",
   "execution_count": 11,
   "id": "ecd8e0e2",
   "metadata": {},
   "outputs": [
    {
     "name": "stdout",
     "output_type": "stream",
     "text": [
      "\n",
      "\n",
      "目录: F:\\GPT_local\\gpt-api-use\n",
      "\n",
      "\n",
      "Mode                 LastWriteTime         Length Name\n",
      "----                 -------------         ------ ----\n",
      "d-----         2023/5/21     11:39                .ipynb_checkpoints\n",
      "d-----         2023/5/23     11:35                test\n",
      "-a----         2023/5/25     19:33          18182 API测试.ipynb\n",
      "-a----         2023/5/30     16:41           8310 powershell测试.ipynb\n",
      "-a----         2023/5/25     19:37          16367 windows防护测试.ipynb\n",
      "-a----         2023/5/30     16:42           1923 output.txt\n",
      "\n",
      "\n",
      "\n"
     ]
    }
   ],
   "source": [
    "print(listener.get_final_output())"
   ]
  },
  {
   "cell_type": "code",
   "execution_count": 12,
   "id": "7edd3fdc",
   "metadata": {},
   "outputs": [
    {
     "name": "stdout",
     "output_type": "stream",
     "text": [
      "now agent state:  running and listening\n"
     ]
    }
   ],
   "source": [
    "listener.check_state()"
   ]
  },
  {
   "cell_type": "code",
   "execution_count": 4,
   "id": "6420f9fb",
   "metadata": {},
   "outputs": [],
   "source": [
    "listener.run_powershell_command('ipconfig')"
   ]
  },
  {
   "cell_type": "code",
   "execution_count": null,
   "id": "743e8bf8",
   "metadata": {},
   "outputs": [],
   "source": []
  },
  {
   "cell_type": "code",
   "execution_count": 13,
   "id": "8da939df",
   "metadata": {},
   "outputs": [],
   "source": [
    "listener.stop_listening()"
   ]
  },
  {
   "cell_type": "code",
   "execution_count": 6,
   "id": "d4b94770",
   "metadata": {},
   "outputs": [],
   "source": [
    "listener.start_listening()"
   ]
  },
  {
   "cell_type": "code",
   "execution_count": 31,
   "id": "bc52ddd8",
   "metadata": {},
   "outputs": [],
   "source": [
    "listener.run_powershell_command('echo $env:userprofile')"
   ]
  },
  {
   "cell_type": "code",
   "execution_count": 8,
   "id": "88bca1fd",
   "metadata": {},
   "outputs": [],
   "source": [
    "listener.run_powershell_command('swdadawd')"
   ]
  },
  {
   "cell_type": "code",
   "execution_count": 37,
   "id": "bc6daba5",
   "metadata": {},
   "outputs": [],
   "source": [
    "listener.run_powershell_command(r'''cd F:\\GPT_local\\gpt-api-use''')"
   ]
  },
  {
   "cell_type": "code",
   "execution_count": 10,
   "id": "d38c9127",
   "metadata": {},
   "outputs": [],
   "source": [
    "listener.run_powershell_command(r'''dir''')"
   ]
  },
  {
   "cell_type": "code",
   "execution_count": 25,
   "id": "6c1f86c3",
   "metadata": {},
   "outputs": [],
   "source": [
    "listener.run_powershell_command(r'''exit()''')"
   ]
  },
  {
   "cell_type": "code",
   "execution_count": 14,
   "id": "8a3827bf",
   "metadata": {},
   "outputs": [],
   "source": [
    "# 在需要停止监听的时候调用\n",
    "listener.powershell_shutdown()"
   ]
  },
  {
   "cell_type": "code",
   "execution_count": null,
   "id": "afabb56e",
   "metadata": {},
   "outputs": [],
   "source": []
  }
 ],
 "metadata": {
  "kernelspec": {
   "display_name": "GPT",
   "language": "python",
   "name": "gpt"
  },
  "language_info": {
   "codemirror_mode": {
    "name": "ipython",
    "version": 3
   },
   "file_extension": ".py",
   "mimetype": "text/x-python",
   "name": "python",
   "nbconvert_exporter": "python",
   "pygments_lexer": "ipython3",
   "version": "3.11.3"
  }
 },
 "nbformat": 4,
 "nbformat_minor": 5
}
